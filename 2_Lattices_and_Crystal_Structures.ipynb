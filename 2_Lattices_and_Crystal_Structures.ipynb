{
 "cells": [
  {
   "cell_type": "markdown",
   "metadata": {},
   "source": [
    "# 2. Lattices and Crystal Structures"
   ]
  },
  {
   "cell_type": "markdown",
   "metadata": {},
   "source": [
    "## 2.1 Lattices"
   ]
  },
  {
   "cell_type": "markdown",
   "metadata": {},
   "source": [
    "Lattices are a mathematical concept that is created by gathering all the permutations of basis vectors. One can look at a lattice as a tiling of some object. Lattices can exist in one, two, or three dimensions. To represent a lattice in n dimensions one needs n basis vectors. The basis vectors are often referred to as translational vectors. Lattices in 1D, 2D, and 3D are called line, plane, and, space lattices respectively. The following figures show a line lattice and a plane lattice represented by basis vectors $\\vec{a}$ and $\\vec{b}(\\vec{b}\\nparallel\\vec{a})$."
   ]
  },
  {
   "cell_type": "markdown",
   "metadata": {},
   "source": [
    "![title](https://image.slidesharecdn.com/972b3102005cullitychapter2-090427075953-phpapp01/95/972-b3102005-cullity-chapter-2-2-728.jpg?cb=1240819335)"
   ]
  },
  {
   "cell_type": "markdown",
   "metadata": {},
   "source": [
    "If we introduce another vector $\\vec{c}$ not co-planar to $\\vec{a}$ and $\\vec{b}$, we can create a space lattice. "
   ]
  },
  {
   "cell_type": "markdown",
   "metadata": {},
   "source": [
    "![title](https://image.slidesharecdn.com/972b3102005cullitychapter2-090427075953-phpapp01/95/972-b3102005-cullity-chapter-2-3-728.jpg?cb=1240819335)"
   ]
  },
  {
   "cell_type": "markdown",
   "metadata": {},
   "source": [
    "There are three useful concepts in lattices, Lattice Point, Lattice Lines, and Lattice Planes. The following is a brief explanation and conventions of writing definitions. The examples will be on space lattices. All of these concepts are defined with respect to an origin of the lattic."
   ]
  },
  {
   "cell_type": "markdown",
   "metadata": {},
   "source": [
    "### 2.1.1 Lattice Points"
   ]
  },
  {
   "cell_type": "markdown",
   "metadata": {},
   "source": [
    "Every lattice point can be defined by the vector $\\tau = u\\vec{a}+v\\vec{b}+w\\vec{c}$. Most often $u$, $v$, $w$ are integers. As a convention lattice points are written as a triple $uvw$.The following shows the lattice points in two dimensions. Negative numbers are represented by bar."
   ]
  },
  {
   "cell_type": "markdown",
   "metadata": {},
   "source": [
    "![title](http://pd.chem.ucl.ac.uk/pdnn/diff1/lattice.gif)"
   ]
  },
  {
   "cell_type": "markdown",
   "metadata": {},
   "source": [
    "### 2.1.2 Lattice Lines"
   ]
  },
  {
   "cell_type": "markdown",
   "metadata": {},
   "source": [
    "In Euclidean geometry, a line is defined by two lattice points. In a lattice, however, a line also defines all of the parallel lines to that line with the same lattice parameter (i.e. distance between two adjacent points on the are the same). Usually, lattice lines are represented with $[uvw]$ in a bracket (*e.g.* [1 2 5])."
   ]
  },
  {
   "cell_type": "markdown",
   "metadata": {},
   "source": [
    "![title](https://www.oreilly.com/library/view/engineering-physics/9788131775073/images/c03f001.png)"
   ]
  },
  {
   "cell_type": "markdown",
   "metadata": {},
   "source": [
    "### 2.1.3 Lattice Planes"
   ]
  },
  {
   "cell_type": "markdown",
   "metadata": {},
   "source": [
    "If we consider a plane intersecting the axes $x$, $y$, and $z$ at points m00, 0n0, and 00p. We define that plane as a triple in prantheses $(hkl)$, where $h$,$k$, and $l$ are chosen by multiplying the the least comomn multiplier of $m$, $n$, and $p$ with the reciprocal intercepts form $\\frac{1}{m}$, $\\frac{1}{n}$, and $\\frac{1}{p}$. "
   ]
  },
  {
   "cell_type": "markdown",
   "metadata": {},
   "source": [
    "![title](https://ars.els-cdn.com/content/image/3-s2.0-B9780123970145000055-b05-01-9780123970145.jpg?_)"
   ]
  },
  {
   "cell_type": "markdown",
   "metadata": {},
   "source": [
    "A very useful concept in crystallography is the miller index. To better define the miller indices we need to introduce the reciprocal lattice. "
   ]
  },
  {
   "cell_type": "markdown",
   "metadata": {},
   "source": [
    "## 2.2 Reciprocal Lattice"
   ]
  },
  {
   "cell_type": "markdown",
   "metadata": {},
   "source": [
    "Reciprocal lattice is the Fourier transform of another lattice. A reciprocal lattice has every property that we have defined in this chapter. To derive the reciprocal lattice of a lattice defined by lattice vectors a, b, and c, one has to simply follow the following formulas.  \n",
    "\n",
    "$\\textbf{a}^\\ast = \\frac{2\\pi}{\\textbf{a}.(\\textbf{b} \\times \\textbf{c})}\\textbf{b} \\times \\textbf{c}$\n",
    "\n",
    "$\\textbf{b}^\\ast = \\frac{2\\pi}{\\textbf{a}.(\\textbf{b} \\times \\textbf{c})}\\textbf{c} \\times \\textbf{a}$\n",
    "\n",
    "$\\textbf{c}^\\ast = \\frac{2\\pi}{\\textbf{a}.(\\textbf{b} \\times \\textbf{c})}\\textbf{a} \\times \\textbf{b}$\n",
    "\n",
    "Any vector in the reciprocal lattice can be defined using these vectors. \n"
   ]
  },
  {
   "cell_type": "markdown",
   "metadata": {},
   "source": [
    "### 2.2.1 Miller index"
   ]
  },
  {
   "cell_type": "markdown",
   "metadata": {},
   "source": [
    "Now that we have defined the reciprocal space, we can introduce the very useful concept of Miller indices. A plane can be used by the vector perpendicular to it. So we can use the reciprocal lattice vectors to define every plane possible in the lattice. In other words, the reciprocal vectors are used to define the planes in the real space.  The reason we have used a reciprocal lattice vector is that the real space lattice vectors can not be used to define all the planes in the real space. \n",
    "\n",
    "Imagine the reciprocal lattice vector $\\textbf{g}_{hkl}$ defined as \n",
    "\n",
    "$\\textbf{g}_{hkl}= h\\textbf{a}^\\ast + k\\textbf{b}^\\ast l\\textbf{c}^\\ast$ \n",
    " \n",
    "This vector can be used to define all the planes perpendicular to it. The miller index h, k, and l (hkl) represent all the planes perpendicular to $\\textbf{g}_{hkl}$. "
   ]
  },
  {
   "cell_type": "markdown",
   "metadata": {},
   "source": [
    "## 2.3 Crystal Structures"
   ]
  },
  {
   "cell_type": "markdown",
   "metadata": {},
   "source": [
    "A lattice is the best mathematical object to define a crystal structure. A crystal structure is created by combining a basis with a lattice. This means that the basis will be repeated in all of the points defining the lattice, creating periodic entities of the basis. In solid-state physics, we can use this concept to represent crystal structures. Using a suitable basis and lattice, we represent most of the crystal structures known to us. \n",
    "The following are examples of crystal structures defined by their basis and lattice. "
   ]
  },
  {
   "cell_type": "markdown",
   "metadata": {},
   "source": [
    "![title](https://cdn3.edurev.in/ApplicationImages/Temp/1611931_8eb5b11e-86fe-4219-83bf-592987dfc808_lg.PNG)"
   ]
  },
  {
   "cell_type": "markdown",
   "metadata": {},
   "source": [
    "![title](https://nanohub.org/wiki/CrystalViewerPage/Image:diamond.jpg)"
   ]
  },
  {
   "cell_type": "markdown",
   "metadata": {},
   "source": [
    "**In short, a lattice is a layout of points that gets repeated in all directions. A basis is any object (atoms, molecules, ions, etc.) that can be placed at the lattice points. The lattice and basis are all that is needed to describe an entire crystal.** "
   ]
  },
  {
   "cell_type": "markdown",
   "metadata": {},
   "source": [
    "Let's look at an example. We can use the WVU logo as our basis and insert it in a 2D lattice. You can choose the ratio of $\\vec{a}$ to $\\vec{b}$ by entering a length (0-4) for each. Run the code below to get started."
   ]
  },
  {
   "cell_type": "code",
   "execution_count": 3,
   "metadata": {},
   "outputs": [
    {
     "name": "stdout",
     "output_type": "stream",
     "text": [
      "Cell parameter \"a\" = 1\n",
      "Cell parameter \"b\" = 2\n"
     ]
    },
    {
     "data": {
      "image/png": "[encoded data removed]",
      "text/plain": [
       "<Figure size 432x864 with 1 Axes>"
      ]
     },
     "metadata": {
      "needs_background": "light"
     },
     "output_type": "display_data"
    }
   ],
   "source": [
    "#Lattice Widget\n",
    "\n",
    "import matplotlib.pyplot as plt\n",
    "import matplotlib.ticker as plticker\n",
    "import numpy as np\n",
    "\n",
    "from matplotlib.offsetbox import (TextArea, DrawingArea, OffsetImage,\n",
    "                                  AnnotationBbox)\n",
    "from PIL import Image\n",
    "import requests\n",
    "from io import BytesIO\n",
    "\n",
    "a = float(input('Cell parameter \"a\" = '))\n",
    "b = float(input('Cell parameter \"b\" = '))\n",
    "\n",
    "response = requests.get('https://github.com/romerogroup/CrystalCompanion/blob/master/WVU.png?raw=true')\n",
    "img = Image.open(BytesIO(response.content))\n",
    "imgsize = img.size\n",
    "zum = 45/imgsize[0]\n",
    "\n",
    "if b > a:\n",
    "    fig = plt.figure(figsize=(6,6*b/a))\n",
    "else:\n",
    "    fig = plt.figure(figsize=(6*a/b,6))\n",
    "    \n",
    "fig_pixels = fig.get_size_inches()*fig.dpi\n",
    "\n",
    "ax = plt.subplot(111)\n",
    "ax.set_ylim([0,b*4])\n",
    "ax.set_xlim([0,a*4])\n",
    "\n",
    "#Add first image at the origin\n",
    "imagebox = OffsetImage(img, zoom=zum)\n",
    "imagebox.image.axes = ax\n",
    "\n",
    "#Fill lattice with images\n",
    "for i in np.arange(1,4):\n",
    "    for j in np.arange(1,4):\n",
    "        ab = AnnotationBbox(imagebox, (0,0),\n",
    "                        xybox=(i*a,j*b),\n",
    "                        xycoords='data',\n",
    "                        boxcoords=\"data\",\n",
    "                        frameon = 'False',\n",
    "                        pad=0.2)\n",
    "\n",
    "\n",
    "        ax.add_artist(ab)\n",
    "        \n",
    "ax.annotate('a',(a/2,b/10))\n",
    "ax.annotate('b',(a/10,b/2))\n",
    "\n",
    "#Make gridlines for lattice\n",
    "a_loc = plticker.MultipleLocator(base=a)\n",
    "b_loc = plticker.MultipleLocator(base=b)\n",
    "ax.xaxis.set_major_locator(a_loc)\n",
    "ax.yaxis.set_major_locator(b_loc)\n",
    "ax.grid(color='k')\n",
    "\n",
    "plt.show()"
   ]
  },
  {
   "cell_type": "markdown",
   "metadata": {},
   "source": [
    "## "
   ]
  }
 ],
 "metadata": {
  "kernelspec": {
   "display_name": "Python 3",
   "language": "python",
   "name": "python3"
  },
  "language_info": {
   "codemirror_mode": {
    "name": "ipython",
    "version": 3
   },
   "file_extension": ".py",
   "mimetype": "text/x-python",
   "name": "python",
   "nbconvert_exporter": "python",
   "pygments_lexer": "ipython3",
   "version": "3.7.4"
  }
 },
 "nbformat": 4,
 "nbformat_minor": 2
}
